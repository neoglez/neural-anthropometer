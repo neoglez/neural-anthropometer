{
  "cells": [
    {
      "cell_type": "code",
      "execution_count": 3,
      "metadata": {
        "id": "BPube3pevfx8",
        "outputId": "cfda79f1-9467-4c47-c298-ede9055dcfc6",
        "colab": {
          "base_uri": "https://localhost:8080/"
        }
      },
      "outputs": [
        {
          "output_type": "stream",
          "name": "stdout",
          "text": [
            "Cloning into 'hbm'...\n",
            "warning: redirecting to https://github.com/neoglez/hbm.git/\n",
            "remote: Enumerating objects: 43, done.\u001b[K\n",
            "remote: Counting objects: 100% (43/43), done.\u001b[K\n",
            "remote: Compressing objects: 100% (36/36), done.\u001b[K\n",
            "remote: Total 43 (delta 14), reused 32 (delta 3), pack-reused 0\u001b[K\n",
            "Unpacking objects: 100% (43/43), done.\n"
          ]
        }
      ],
      "source": [
        "!git clone http://github.com/neoglez/hbm.git"
      ]
    },
    {
      "cell_type": "code",
      "source": [
        "%cd hbm\n",
        "\n",
        "!pip install .\n",
        "\n",
        "!conda install -c conda-forge vedo\n",
        "\n",
        "!pip install trimesh sklearn matplotlib"
      ],
      "metadata": {
        "id": "BWWyAeH-wSEH",
        "outputId": "ae2c803b-6094-44fa-c0b0-c1cb71fdaf42",
        "colab": {
          "base_uri": "https://localhost:8080/"
        }
      },
      "execution_count": 8,
      "outputs": [
        {
          "output_type": "stream",
          "name": "stdout",
          "text": [
            "/content/hbm\n",
            "Processing /content/hbm\n",
            "\u001b[33m  DEPRECATION: A future pip version will change local packages to be built in-place without first copying to a temporary directory. We recommend you use --use-feature=in-tree-build to test your packages with this new behavior before it becomes the default.\n",
            "   pip 21.3 will remove support for this functionality. You can find discussion regarding this at https://github.com/pypa/pip/issues/7555.\u001b[0m\n",
            "Requirement already satisfied: numpy in /usr/local/lib/python3.7/dist-packages (from hbm==0.0.1) (1.19.5)\n",
            "Requirement already satisfied: opencv-python in /usr/local/lib/python3.7/dist-packages (from hbm==0.0.1) (4.1.2.30)\n",
            "Building wheels for collected packages: hbm\n",
            "  Building wheel for hbm (setup.py) ... \u001b[?25l\u001b[?25hdone\n",
            "  Created wheel for hbm: filename=hbm-0.0.1-py3-none-any.whl size=12044 sha256=057f2905a5a0cf0b12017ee79250cea797c62a4aaf2dd2671a1fd8ea3202e601\n",
            "  Stored in directory: /tmp/pip-ephem-wheel-cache-pp9s1168/wheels/a8/97/30/6f90e8b11ae69ec4a79943c1269e92ccd12c1568281e9adeb6\n",
            "Successfully built hbm\n",
            "Installing collected packages: hbm\n",
            "Successfully installed hbm-0.0.1\n",
            "/bin/bash: conda: command not found\n",
            "Requirement already satisfied: trimesh in /usr/local/lib/python3.7/dist-packages (3.9.36)\n",
            "Requirement already satisfied: sklearn in /usr/local/lib/python3.7/dist-packages (0.0)\n",
            "Requirement already satisfied: matplotlib in /usr/local/lib/python3.7/dist-packages (3.2.2)\n",
            "Requirement already satisfied: numpy in /usr/local/lib/python3.7/dist-packages (from trimesh) (1.19.5)\n",
            "Requirement already satisfied: setuptools in /usr/local/lib/python3.7/dist-packages (from trimesh) (57.4.0)\n",
            "Requirement already satisfied: scikit-learn in /usr/local/lib/python3.7/dist-packages (from sklearn) (1.0.1)\n",
            "Requirement already satisfied: kiwisolver>=1.0.1 in /usr/local/lib/python3.7/dist-packages (from matplotlib) (1.3.2)\n",
            "Requirement already satisfied: cycler>=0.10 in /usr/local/lib/python3.7/dist-packages (from matplotlib) (0.11.0)\n",
            "Requirement already satisfied: pyparsing!=2.0.4,!=2.1.2,!=2.1.6,>=2.0.1 in /usr/local/lib/python3.7/dist-packages (from matplotlib) (3.0.6)\n",
            "Requirement already satisfied: python-dateutil>=2.1 in /usr/local/lib/python3.7/dist-packages (from matplotlib) (2.8.2)\n",
            "Requirement already satisfied: six>=1.5 in /usr/local/lib/python3.7/dist-packages (from python-dateutil>=2.1->matplotlib) (1.15.0)\n",
            "Requirement already satisfied: threadpoolctl>=2.0.0 in /usr/local/lib/python3.7/dist-packages (from scikit-learn->sklearn) (3.0.0)\n",
            "Requirement already satisfied: joblib>=0.11 in /usr/local/lib/python3.7/dist-packages (from scikit-learn->sklearn) (1.1.0)\n",
            "Requirement already satisfied: scipy>=1.1.0 in /usr/local/lib/python3.7/dist-packages (from scikit-learn->sklearn) (1.4.1)\n"
          ]
        }
      ]
    },
    {
      "cell_type": "markdown",
      "source": [
        "# Neuer Abschnitt"
      ],
      "metadata": {
        "id": "F2ws8Pe3wkYN"
      }
    },
    {
      "cell_type": "markdown",
      "source": [
        "# Neuer Abschnitt"
      ],
      "metadata": {
        "id": "zxLwdqpJwlR9"
      }
    }
  ],
  "metadata": {
    "kernelspec": {
      "display_name": "neuraltailorpy37",
      "language": "python",
      "name": "neuraltailorpy37"
    },
    "language_info": {
      "codemirror_mode": {
        "name": "ipython",
        "version": 3
      },
      "file_extension": ".py",
      "mimetype": "text/x-python",
      "name": "python",
      "nbconvert_exporter": "python",
      "pygments_lexer": "ipython3",
      "version": "3.7.9"
    },
    "colab": {
      "name": "train_neural_antropomter.ipynb",
      "provenance": []
    }
  },
  "nbformat": 4,
  "nbformat_minor": 0
}