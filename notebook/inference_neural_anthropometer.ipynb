{
  "cells": [
    {
      "cell_type": "markdown",
      "metadata": {
        "id": "n7WljTp_lp7x"
      },
      "source": [
        "# Clone and install Neural-Anthropometer"
      ]
    },
    {
      "cell_type": "markdown",
      "metadata": {
        "id": "telyuLR6lye1"
      },
      "source": [
        "## HBM, Vedo and Trimesh"
      ]
    },
    {
      "cell_type": "code",
      "execution_count": 1,
      "metadata": {
        "colab": {
          "base_uri": "https://localhost:8080/"
        },
        "id": "zaKUCEcxL_jy",
        "outputId": "3cf84152-f70a-4968-885b-d43d56326fe4"
      },
      "outputs": [
        {
          "output_type": "stream",
          "name": "stdout",
          "text": [
            "/home\n",
            "computational_intelligence\n",
            "/home/computational_intelligence\n"
          ]
        }
      ],
      "source": [
        "%cd /home\n",
        "!rm -rf computational_intelligence || true\n",
        "!mkdir computational_intelligence\n",
        "!ls\n",
        "%cd computational_intelligence"
      ]
    },
    {
      "cell_type": "code",
      "execution_count": 2,
      "metadata": {
        "colab": {
          "base_uri": "https://localhost:8080/"
        },
        "id": "BPube3pevfx8",
        "outputId": "1c592954-e598-4f73-a01c-38c9e8faf44f"
      },
      "outputs": [
        {
          "output_type": "stream",
          "name": "stdout",
          "text": [
            "Cloning into 'hbm'...\n",
            "warning: redirecting to https://github.com/neoglez/hbm.git/\n",
            "remote: Enumerating objects: 43, done.\u001b[K\n",
            "remote: Counting objects: 100% (43/43), done.\u001b[K\n",
            "remote: Compressing objects: 100% (36/36), done.\u001b[K\n",
            "remote: Total 43 (delta 14), reused 32 (delta 3), pack-reused 0\u001b[K\n",
            "Unpacking objects: 100% (43/43), 20.76 KiB | 1.48 MiB/s, done.\n"
          ]
        }
      ],
      "source": [
        "!git clone http://github.com/neoglez/hbm.git"
      ]
    },
    {
      "cell_type": "code",
      "execution_count": 3,
      "metadata": {
        "colab": {
          "base_uri": "https://localhost:8080/"
        },
        "id": "BWWyAeH-wSEH",
        "outputId": "04c858d1-1a82-4d0f-ac08-2b5710ec36e2"
      },
      "outputs": [
        {
          "output_type": "stream",
          "name": "stdout",
          "text": [
            "/home/computational_intelligence/hbm\n",
            "Looking in indexes: https://pypi.org/simple, https://us-python.pkg.dev/colab-wheels/public/simple/\n",
            "Processing /home/computational_intelligence/hbm\n",
            "  Preparing metadata (setup.py) ... \u001b[?25l\u001b[?25hdone\n",
            "Requirement already satisfied: numpy in /usr/local/lib/python3.10/dist-packages (from hbm==0.0.1) (1.22.4)\n",
            "Requirement already satisfied: opencv-python in /usr/local/lib/python3.10/dist-packages (from hbm==0.0.1) (4.7.0.72)\n",
            "Building wheels for collected packages: hbm\n",
            "  Building wheel for hbm (setup.py) ... \u001b[?25l\u001b[?25hdone\n",
            "  Created wheel for hbm: filename=hbm-0.0.1-py3-none-any.whl size=12028 sha256=34cbb1205d51f6ed287bc57bab3b8afc1dc8ebcaa772b5ccbc6cc8ebcae3f120\n",
            "  Stored in directory: /tmp/pip-ephem-wheel-cache-kfv0t1i5/wheels/78/93/86/29ecf9090c6c772d556dcef498975967ccb8055b38011eaaab\n",
            "Successfully built hbm\n",
            "Installing collected packages: hbm\n",
            "Successfully installed hbm-0.0.1\n",
            "/bin/bash: conda: command not found\n",
            "Looking in indexes: https://pypi.org/simple, https://us-python.pkg.dev/colab-wheels/public/simple/\n",
            "Collecting trimesh\n",
            "  Downloading trimesh-3.21.7-py3-none-any.whl (681 kB)\n",
            "\u001b[2K     \u001b[90m━━━━━━━━━━━━━━━━━━━━━━━━━━━━━━━━━━━━━━\u001b[0m \u001b[32m681.1/681.1 kB\u001b[0m \u001b[31m11.1 MB/s\u001b[0m eta \u001b[36m0:00:00\u001b[0m\n",
            "\u001b[?25hCollecting sklearn\n",
            "  Downloading sklearn-0.0.post5.tar.gz (3.7 kB)\n",
            "  Preparing metadata (setup.py) ... \u001b[?25l\u001b[?25hdone\n",
            "Requirement already satisfied: matplotlib in /usr/local/lib/python3.10/dist-packages (3.7.1)\n",
            "Requirement already satisfied: numpy in /usr/local/lib/python3.10/dist-packages (from trimesh) (1.22.4)\n",
            "Requirement already satisfied: contourpy>=1.0.1 in /usr/local/lib/python3.10/dist-packages (from matplotlib) (1.0.7)\n",
            "Requirement already satisfied: cycler>=0.10 in /usr/local/lib/python3.10/dist-packages (from matplotlib) (0.11.0)\n",
            "Requirement already satisfied: fonttools>=4.22.0 in /usr/local/lib/python3.10/dist-packages (from matplotlib) (4.39.3)\n",
            "Requirement already satisfied: kiwisolver>=1.0.1 in /usr/local/lib/python3.10/dist-packages (from matplotlib) (1.4.4)\n",
            "Requirement already satisfied: packaging>=20.0 in /usr/local/lib/python3.10/dist-packages (from matplotlib) (23.1)\n",
            "Requirement already satisfied: pillow>=6.2.0 in /usr/local/lib/python3.10/dist-packages (from matplotlib) (8.4.0)\n",
            "Requirement already satisfied: pyparsing>=2.3.1 in /usr/local/lib/python3.10/dist-packages (from matplotlib) (3.0.9)\n",
            "Requirement already satisfied: python-dateutil>=2.7 in /usr/local/lib/python3.10/dist-packages (from matplotlib) (2.8.2)\n",
            "Requirement already satisfied: six>=1.5 in /usr/local/lib/python3.10/dist-packages (from python-dateutil>=2.7->matplotlib) (1.16.0)\n",
            "Building wheels for collected packages: sklearn\n",
            "  Building wheel for sklearn (setup.py) ... \u001b[?25l\u001b[?25hdone\n",
            "  Created wheel for sklearn: filename=sklearn-0.0.post5-py3-none-any.whl size=2950 sha256=82cfe550b52d31e5609148cc38f736825a7581db142ac303e07db330106468e8\n",
            "  Stored in directory: /root/.cache/pip/wheels/38/1f/8d/4f812c590e074c1e928f5cec67bf5053b71f38e2648739403a\n",
            "Successfully built sklearn\n",
            "Installing collected packages: sklearn, trimesh\n",
            "Successfully installed sklearn-0.0.post5 trimesh-3.21.7\n"
          ]
        }
      ],
      "source": [
        "%cd hbm\n",
        "\n",
        "!pip install .\n",
        "\n",
        "!conda install -c conda-forge vedo\n",
        "\n",
        "!pip install trimesh sklearn matplotlib"
      ]
    },
    {
      "cell_type": "markdown",
      "metadata": {
        "id": "VQJUDi7El8Pa"
      },
      "source": [
        "## Install the Neural-Anthropometer"
      ]
    },
    {
      "cell_type": "code",
      "execution_count": 4,
      "metadata": {
        "colab": {
          "base_uri": "https://localhost:8080/"
        },
        "id": "b6E7wxfql--o",
        "outputId": "5d979e9a-caea-42f8-c248-2ea94d1857c0"
      },
      "outputs": [
        {
          "output_type": "stream",
          "name": "stdout",
          "text": [
            "/home/computational_intelligence\n"
          ]
        }
      ],
      "source": [
        "%cd .."
      ]
    },
    {
      "cell_type": "code",
      "execution_count": 5,
      "metadata": {
        "colab": {
          "base_uri": "https://localhost:8080/"
        },
        "id": "JLuyTunWmKMv",
        "outputId": "d90e10f8-a801-4b66-9788-4f8472b1fa34"
      },
      "outputs": [
        {
          "output_type": "stream",
          "name": "stdout",
          "text": [
            "Cloning into 'neural-anthropometer'...\n",
            "warning: redirecting to https://github.com/neoglez/neural-anthropometer.git/\n",
            "remote: Enumerating objects: 284, done.\u001b[K\n",
            "remote: Counting objects: 100% (284/284), done.\u001b[K\n",
            "remote: Compressing objects: 100% (253/253), done.\u001b[K\n",
            "remote: Total 284 (delta 133), reused 141 (delta 19), pack-reused 0\u001b[K\n",
            "Receiving objects: 100% (284/284), 10.98 MiB | 22.35 MiB/s, done.\n",
            "Resolving deltas: 100% (133/133), done.\n",
            "/home/computational_intelligence/neural-anthropometer\n",
            "Looking in indexes: https://pypi.org/simple, https://us-python.pkg.dev/colab-wheels/public/simple/\n",
            "Processing /home/computational_intelligence/neural-anthropometer\n",
            "  Preparing metadata (setup.py) ... \u001b[?25l\u001b[?25hdone\n",
            "Requirement already satisfied: numpy in /usr/local/lib/python3.10/dist-packages (from neural-anthropometer==0.0.3) (1.22.4)\n",
            "Requirement already satisfied: opencv-python in /usr/local/lib/python3.10/dist-packages (from neural-anthropometer==0.0.3) (4.7.0.72)\n",
            "Building wheels for collected packages: neural-anthropometer\n",
            "  Building wheel for neural-anthropometer (setup.py) ... \u001b[?25l\u001b[?25hdone\n",
            "  Created wheel for neural-anthropometer: filename=neural_anthropometer-0.0.3-py3-none-any.whl size=35856 sha256=9e57eb767a599c99ba6027517e10d95b050fa1eb5886ef5265083b728f1418e8\n",
            "  Stored in directory: /root/.cache/pip/wheels/c4/7f/55/16832d2dd234a9295f8281500af944fc97524968d062789825\n",
            "Successfully built neural-anthropometer\n",
            "Installing collected packages: neural-anthropometer\n",
            "Successfully installed neural-anthropometer-0.0.3\n"
          ]
        }
      ],
      "source": [
        "!git clone http://github.com/neoglez/neural-anthropometer.git\n",
        "%cd neural-anthropometer\n",
        "!pip install ."
      ]
    },
    {
      "cell_type": "markdown",
      "metadata": {
        "id": "GPUFLCFXme1D"
      },
      "source": [
        "# Download Neural-Anthropometer dataset"
      ]
    },
    {
      "cell_type": "code",
      "execution_count": 6,
      "metadata": {
        "colab": {
          "base_uri": "https://localhost:8080/"
        },
        "id": "DI43aH64y1s2",
        "outputId": "a6fbafd6-f40c-48a6-8ee2-168e9b1e346c"
      },
      "outputs": [
        {
          "output_type": "stream",
          "name": "stdout",
          "text": [
            "/home\n",
            "computational_intelligence  Downloads\n",
            "/home/Downloads\n"
          ]
        }
      ],
      "source": [
        "%cd /home\n",
        "!rm -rf Downloads || true\n",
        "!mkdir Downloads\n",
        "!ls\n",
        "%cd Downloads"
      ]
    },
    {
      "cell_type": "code",
      "execution_count": 7,
      "metadata": {
        "colab": {
          "base_uri": "https://localhost:8080/"
        },
        "id": "bG4x7dX35kEX",
        "outputId": "a935a7e5-d8b1-440f-c17c-4bbd63660613"
      },
      "outputs": [
        {
          "output_type": "stream",
          "name": "stdout",
          "text": [
            "FxRmLT0rSRoEJRxERh8CGQMDbUFZGEorWiVEOQEtBVs=:ZARbvA0HsNZ4mlmpLj89rQzl/WoUEjq4upbhD6hh7/E=\n",
            "Downloding Neural Anthropometer Dataset\n"
          ]
        },
        {
          "output_type": "stream",
          "name": "stderr",
          "text": [
            "100%|██████████| 2.02G/2.02G [01:24<00:00, 24.0MiB/s]\n"
          ]
        }
      ],
      "source": [
        "from tqdm import tqdm\n",
        "from requests.sessions import default_headers\n",
        "import requests\n",
        "import urllib\n",
        "import re\n",
        "\n",
        "url = \"https://cloudlogin03.world4you.com/index.php/s/5uD3bt1n207k8ko/authenticate\"\n",
        "download_url = \"https://cloudlogin03.world4you.com/index.php/s/5uD3bt1n207k8ko/download\"\n",
        "password = \"na-dataset\"\n",
        "requesttoken = ''\n",
        "\n",
        "\n",
        "s = requests.Session()\n",
        "r0 = s.get(url)\n",
        "\n",
        "requesttoken = re.findall('(?<=data-requesttoken=\").*?(?=\">)', r0.text)\n",
        "if (requesttoken):\n",
        "  requesttoken = requesttoken[0]\n",
        "print(requesttoken)\n",
        "\n",
        "data = {'requesttoken': requesttoken, 'password': password}\n",
        "r1 = s.post(url, data=data)\n",
        "\n",
        "print(\"Downloding Neural Anthropometer Dataset\")\n",
        "r2 = s.get(download_url, stream=True)\n",
        "total_size_in_bytes= int(r2.headers.get('content-length', 0))\n",
        "block_size = 1024 #1 Kilobyte\n",
        "progress_bar = tqdm(total=total_size_in_bytes, unit='iB', unit_scale=True)\n",
        "with open('neural-anthropometer.tar.gz', 'wb') as file:\n",
        "    for data in r2.iter_content(block_size):\n",
        "        progress_bar.update(len(data))\n",
        "        file.write(data)\n",
        "progress_bar.close()\n",
        "if total_size_in_bytes != 0 and progress_bar.n != total_size_in_bytes:\n",
        "    print(\"ERROR, something went wrong\")\n",
        "\n",
        "\n",
        "\n",
        "\n"
      ]
    },
    {
      "cell_type": "code",
      "execution_count": 8,
      "metadata": {
        "colab": {
          "base_uri": "https://localhost:8080/"
        },
        "id": "LXo7I6IM2-C7",
        "outputId": "7587dae8-0b08-491b-dea2-78e5594af1d0"
      },
      "outputs": [
        {
          "output_type": "stream",
          "name": "stdout",
          "text": [
            "neural-anthropometer.tar.gz\n",
            "None\n"
          ]
        }
      ],
      "source": [
        "!ls\n",
        "import os\n",
        "def convert_bytes(num):\n",
        "    \"\"\"\n",
        "    this function will convert bytes to MB.... GB... etc\n",
        "    \"\"\"\n",
        "    for x in ['bytes', 'KB', 'MB', 'GB', 'TB']:\n",
        "        if num < 1024.0:\n",
        "            return \"%3.1f %s\" % (num, x)\n",
        "        num /= 1024.0\n",
        "\n",
        "\n",
        "def file_size(file_path):\n",
        "    \"\"\"\n",
        "    this function will return the file size\n",
        "    \"\"\"\n",
        "    if os.path.isfile(file_path):\n",
        "        file_info = os.stat(file_path)\n",
        "        return convert_bytes(file_info.st_size)\n",
        "\n",
        "\n",
        "# Lets check the file size of MS Paint exe \n",
        "# or you can use any file path\n",
        "file_path = \"../../Downloads/neural-anthropometer.tar.gz\"\n",
        "print(file_size(file_path))"
      ]
    },
    {
      "cell_type": "code",
      "execution_count": 9,
      "metadata": {
        "colab": {
          "base_uri": "https://localhost:8080/"
        },
        "id": "fgaCHLwC0s0J",
        "outputId": "022a537e-501e-4526-fa92-a6afb187a091"
      },
      "outputs": [
        {
          "output_type": "stream",
          "name": "stdout",
          "text": [
            "[Errno 2] No such file or directory: '../../Downloads'\n",
            "/home/Downloads\n"
          ]
        }
      ],
      "source": [
        "%cd ../../Downloads\n",
        "!tar -xf neural-anthropometer.tar.gz\n",
        "!mv dataset/*  /home/computational_intelligence/neural-anthropometer/dataset/"
      ]
    },
    {
      "cell_type": "code",
      "execution_count": 10,
      "metadata": {
        "id": "T1mke4KVN_B_"
      },
      "outputs": [],
      "source": [
        "!rm -rf neural-anthropometer.tar.gz"
      ]
    },
    {
      "cell_type": "code",
      "execution_count": 11,
      "metadata": {
        "id": "RwkdF0L01Ngs"
      },
      "outputs": [],
      "source": [
        "!rm -rf dataset"
      ]
    },
    {
      "cell_type": "markdown",
      "metadata": {
        "id": "JvZf5PHXQCxS"
      },
      "source": [
        "# Estimate Human Body Dimensions"
      ]
    },
    {
      "cell_type": "code",
      "execution_count": 12,
      "metadata": {
        "colab": {
          "base_uri": "https://localhost:8080/"
        },
        "id": "KVS9LW600385",
        "outputId": "2e7963b9-c8c1-4d02-c3a3-591d0ef94052"
      },
      "outputs": [
        {
          "output_type": "stream",
          "name": "stdout",
          "text": [
            "Looking in indexes: https://pypi.org/simple, https://us-python.pkg.dev/colab-wheels/public/simple/\n",
            "Requirement already satisfied: torch in /usr/local/lib/python3.10/dist-packages (2.0.1+cu118)\n",
            "Requirement already satisfied: torchvision in /usr/local/lib/python3.10/dist-packages (0.15.2+cu118)\n",
            "Requirement already satisfied: filelock in /usr/local/lib/python3.10/dist-packages (from torch) (3.12.0)\n",
            "Requirement already satisfied: typing-extensions in /usr/local/lib/python3.10/dist-packages (from torch) (4.5.0)\n",
            "Requirement already satisfied: sympy in /usr/local/lib/python3.10/dist-packages (from torch) (1.11.1)\n",
            "Requirement already satisfied: networkx in /usr/local/lib/python3.10/dist-packages (from torch) (3.1)\n",
            "Requirement already satisfied: jinja2 in /usr/local/lib/python3.10/dist-packages (from torch) (3.1.2)\n",
            "Requirement already satisfied: triton==2.0.0 in /usr/local/lib/python3.10/dist-packages (from torch) (2.0.0)\n",
            "Requirement already satisfied: cmake in /usr/local/lib/python3.10/dist-packages (from triton==2.0.0->torch) (3.25.2)\n",
            "Requirement already satisfied: lit in /usr/local/lib/python3.10/dist-packages (from triton==2.0.0->torch) (16.0.5)\n",
            "Requirement already satisfied: numpy in /usr/local/lib/python3.10/dist-packages (from torchvision) (1.22.4)\n",
            "Requirement already satisfied: requests in /usr/local/lib/python3.10/dist-packages (from torchvision) (2.27.1)\n",
            "Requirement already satisfied: pillow!=8.3.*,>=5.3.0 in /usr/local/lib/python3.10/dist-packages (from torchvision) (8.4.0)\n",
            "Requirement already satisfied: MarkupSafe>=2.0 in /usr/local/lib/python3.10/dist-packages (from jinja2->torch) (2.1.2)\n",
            "Requirement already satisfied: urllib3<1.27,>=1.21.1 in /usr/local/lib/python3.10/dist-packages (from requests->torchvision) (1.26.15)\n",
            "Requirement already satisfied: certifi>=2017.4.17 in /usr/local/lib/python3.10/dist-packages (from requests->torchvision) (2022.12.7)\n",
            "Requirement already satisfied: charset-normalizer~=2.0.0 in /usr/local/lib/python3.10/dist-packages (from requests->torchvision) (2.0.12)\n",
            "Requirement already satisfied: idna<4,>=2.5 in /usr/local/lib/python3.10/dist-packages (from requests->torchvision) (3.4)\n",
            "Requirement already satisfied: mpmath>=0.19 in /usr/local/lib/python3.10/dist-packages (from sympy->torch) (1.3.0)\n"
          ]
        }
      ],
      "source": [
        "!pip3 install torch torchvision"
      ]
    },
    {
      "cell_type": "code",
      "execution_count": 13,
      "metadata": {
        "id": "jFpSVG0DYHbK"
      },
      "outputs": [],
      "source": [
        "!cd /home/computational_intelligence/neural-anthropometer"
      ]
    },
    {
      "cell_type": "code",
      "execution_count": 14,
      "metadata": {
        "colab": {
          "base_uri": "https://localhost:8080/"
        },
        "id": "yQLzPTi-SOt5",
        "outputId": "b0149b94-1549-43c1-9b10-f72615a0211d"
      },
      "outputs": [
        {
          "output_type": "stream",
          "name": "stdout",
          "text": [
            "Looking in indexes: https://pypi.org/simple, https://us-python.pkg.dev/colab-wheels/public/simple/\n",
            "Collecting vedo\n",
            "  Downloading vedo-2023.4.4.tar.gz (2.8 MB)\n",
            "\u001b[2K     \u001b[90m━━━━━━━━━━━━━━━━━━━━━━━━━━━━━━━━━━━━━━━━\u001b[0m \u001b[32m2.8/2.8 MB\u001b[0m \u001b[31m34.7 MB/s\u001b[0m eta \u001b[36m0:00:00\u001b[0m\n",
            "\u001b[?25h  Preparing metadata (setup.py) ... \u001b[?25l\u001b[?25hdone\n",
            "Collecting vtk (from vedo)\n",
            "  Downloading vtk-9.2.6-cp310-cp310-manylinux_2_17_x86_64.manylinux2014_x86_64.whl (79.3 MB)\n",
            "\u001b[2K     \u001b[90m━━━━━━━━━━━━━━━━━━━━━━━━━━━━━━━━━━━━━━━━\u001b[0m \u001b[32m79.3/79.3 MB\u001b[0m \u001b[31m9.7 MB/s\u001b[0m eta \u001b[36m0:00:00\u001b[0m\n",
            "\u001b[?25hRequirement already satisfied: numpy in /usr/local/lib/python3.10/dist-packages (from vedo) (1.22.4)\n",
            "Collecting Deprecated (from vedo)\n",
            "  Downloading Deprecated-1.2.13-py2.py3-none-any.whl (9.6 kB)\n",
            "Requirement already satisfied: Pygments in /usr/local/lib/python3.10/dist-packages (from vedo) (2.14.0)\n",
            "Requirement already satisfied: wrapt<2,>=1.10 in /usr/local/lib/python3.10/dist-packages (from Deprecated->vedo) (1.14.1)\n",
            "Requirement already satisfied: matplotlib>=2.0.0 in /usr/local/lib/python3.10/dist-packages (from vtk->vedo) (3.7.1)\n",
            "Requirement already satisfied: contourpy>=1.0.1 in /usr/local/lib/python3.10/dist-packages (from matplotlib>=2.0.0->vtk->vedo) (1.0.7)\n",
            "Requirement already satisfied: cycler>=0.10 in /usr/local/lib/python3.10/dist-packages (from matplotlib>=2.0.0->vtk->vedo) (0.11.0)\n",
            "Requirement already satisfied: fonttools>=4.22.0 in /usr/local/lib/python3.10/dist-packages (from matplotlib>=2.0.0->vtk->vedo) (4.39.3)\n",
            "Requirement already satisfied: kiwisolver>=1.0.1 in /usr/local/lib/python3.10/dist-packages (from matplotlib>=2.0.0->vtk->vedo) (1.4.4)\n",
            "Requirement already satisfied: packaging>=20.0 in /usr/local/lib/python3.10/dist-packages (from matplotlib>=2.0.0->vtk->vedo) (23.1)\n",
            "Requirement already satisfied: pillow>=6.2.0 in /usr/local/lib/python3.10/dist-packages (from matplotlib>=2.0.0->vtk->vedo) (8.4.0)\n",
            "Requirement already satisfied: pyparsing>=2.3.1 in /usr/local/lib/python3.10/dist-packages (from matplotlib>=2.0.0->vtk->vedo) (3.0.9)\n",
            "Requirement already satisfied: python-dateutil>=2.7 in /usr/local/lib/python3.10/dist-packages (from matplotlib>=2.0.0->vtk->vedo) (2.8.2)\n",
            "Requirement already satisfied: six>=1.5 in /usr/local/lib/python3.10/dist-packages (from python-dateutil>=2.7->matplotlib>=2.0.0->vtk->vedo) (1.16.0)\n",
            "Building wheels for collected packages: vedo\n",
            "  Building wheel for vedo (setup.py) ... \u001b[?25l\u001b[?25hdone\n",
            "  Created wheel for vedo: filename=vedo-2023.4.4-py3-none-any.whl size=2913794 sha256=9243687663e8f671a0905a6c2d85023c7a4c48f0a531eb63ce2a1196ceaf3914\n",
            "  Stored in directory: /root/.cache/pip/wheels/95/b6/2f/3833658363659ef620da99536083638f09a4d11e9a9f779835\n",
            "Successfully built vedo\n",
            "Installing collected packages: Deprecated, vtk, vedo\n",
            "Successfully installed Deprecated-1.2.13 vedo-2023.4.4 vtk-9.2.6\n"
          ]
        }
      ],
      "source": [
        "!pip install vedo\n",
        "import neural_anthropometer as na"
      ]
    },
    {
      "cell_type": "code",
      "source": [
        "import torch\n",
        "import torch.nn as nn\n",
        "import os\n",
        "import neural_anthropometer as na\n",
        "from torch.utils.data import DataLoader\n",
        "import numpy as np\n",
        "import pandas as pd\n",
        "import locale\n",
        "\n",
        "locale.setlocale(locale.LC_NUMERIC, \"C\")\n",
        "\n",
        "rootDir = \"/home/computational_intelligence/neural-anthropometer/dataset\"\n",
        "print(rootDir)\n",
        "\n",
        "\n",
        "model_path = os.path.join(rootDir, \"..\", \"model\")\n",
        "model_name = \"Neural_Anthropometer_Model_17-03-2021_08-26-53_fold-4.pt\"\n",
        "model_file_path = os.path.join(model_path, model_name)\n",
        "\n",
        "# Configuration options\n",
        "batch_size = 1\n",
        "# CUDA for PyTorch\n",
        "# Set fixed random number seed\n",
        "torch.manual_seed(41)\n",
        "use_cuda = torch.cuda.is_available()\n",
        "device = torch.device(\"cuda:0\" if use_cuda else \"cpu\")\n",
        "torch.backends.cudnn.benchmark = False\n",
        "\n",
        "transform = na.TwoDToTensor()\n",
        "criterion = nn.MSELoss()\n",
        "\n",
        "dataset = na.NeuralAnthropometerSyntheticImagesDataset(\n",
        "    root_dir=rootDir, transform=transform\n",
        ")\n",
        "test_dt = DataLoader(dataset, batch_size=batch_size, shuffle=True)\n",
        "dataiter = iter(test_dt)\n",
        "sample = next(dataiter)"
      ],
      "metadata": {
        "id": "n1rQ2VEUmiMA",
        "outputId": "305c7d7d-e0d6-4739-96ec-4595356010dc",
        "colab": {
          "base_uri": "https://localhost:8080/"
        }
      },
      "execution_count": 17,
      "outputs": [
        {
          "output_type": "stream",
          "name": "stdout",
          "text": [
            "/home/computational_intelligence/neural-anthropometer/dataset\n"
          ]
        }
      ]
    },
    {
      "cell_type": "code",
      "execution_count": 19,
      "metadata": {
        "id": "Dg6r_NWWkaUT",
        "outputId": "5b3b5ab5-1fab-44d4-e000-e93d1d2e050f",
        "colab": {
          "base_uri": "https://localhost:8080/"
        }
      },
      "outputs": [
        {
          "output_type": "stream",
          "name": "stdout",
          "text": [
            "Random element drawn\n",
            "Element annotations follows:\n",
            "   chest_circumference    height    inseam  left_arm_length  \\\n",
            "0             1.185917  1.781443  0.682607         0.556792   \n",
            "\n",
            "   pelvis_circumference  right_arm_length  shoulder_width  waist_circumference  \n",
            "0              1.215502          0.565113        0.444981             1.160956  \n"
          ]
        }
      ],
      "source": [
        "plain_data = sample[\"annotations\"][\"human_dimensions\"].numpy().ravel()\n",
        "print(\"Random element drawn\")\n",
        "print(\"Element annotations follows:\")\n",
        "columns = dataset.getHumanBodyDimensionsNames()\n",
        "data = pd.DataFrame([plain_data], columns=columns)\n",
        "print(data)"
      ]
    },
    {
      "cell_type": "code",
      "execution_count": 20,
      "metadata": {
        "id": "ThY6TSevkaUT",
        "outputId": "4e60508d-f15c-4b55-ffe3-b386a94b394e",
        "colab": {
          "base_uri": "https://localhost:8080/",
          "height": 452
        }
      },
      "outputs": [
        {
          "output_type": "execute_result",
          "data": {
            "text/plain": [
              "<matplotlib.image.AxesImage at 0x7fe5ca8b19c0>"
            ]
          },
          "metadata": {},
          "execution_count": 20
        },
        {
          "output_type": "display_data",
          "data": {
            "text/plain": [
              "<Figure size 640x480 with 1 Axes>"
            ],
            "image/png": "[encoded data removed]"
          },
          "metadata": {}
        }
      ],
      "source": [
        "from torchvision import transforms\n",
        "import matplotlib.pyplot as plt\n",
        "from PIL import Image\n",
        "# Plot the subject image with the subject string\n",
        "img_t = sample[\"image\"]\n",
        "# For plotting\n",
        "toPILImage = transforms.ToPILImage()\n",
        "img = toPILImage(img_t[0])\n",
        "plt.imshow(img, cmap=plt.get_cmap('gray'), vmin=0, vmax=255)"
      ]
    },
    {
      "cell_type": "code",
      "execution_count": 23,
      "metadata": {
        "id": "vJ4VH3mckaUU",
        "outputId": "325c6dd0-b55a-4902-ae6c-ae2e71c60e10",
        "colab": {
          "base_uri": "https://localhost:8080/"
        }
      },
      "outputs": [
        {
          "output_type": "stream",
          "name": "stdout",
          "text": [
            "tensor([[1.1859, 1.7814, 0.6826, 0.5568, 1.2155, 0.5651, 0.4450, 1.1610]])\n",
            "tensor([[1.2052, 1.7840, 0.6865, 0.5425, 1.2263, 0.5785, 0.4331, 1.1519]],\n",
            "       grad_fn=<AddmmBackward0>)\n"
          ]
        }
      ],
      "source": [
        "model = na.NeuralAnthropometer(debug=False)\n",
        "model.load_state_dict(torch.load(model_file_path))\n",
        "model.eval()\n",
        "predicted_hbds = model(img_t)\n",
        "\n",
        "print(sample[\"annotations\"][\"human_dimensions\"])\n",
        "print(predicted_hbds)"
      ]
    },
    {
      "cell_type": "code",
      "source": [],
      "metadata": {
        "id": "93H4_EbIm6-1"
      },
      "execution_count": null,
      "outputs": []
    }
  ],
  "metadata": {
    "accelerator": "GPU",
    "colab": {
      "name": "train_neural_antropomter.ipynb",
      "provenance": []
    },
    "kernelspec": {
      "display_name": "Python 3 (ipykernel)",
      "language": "python",
      "name": "python3"
    },
    "language_info": {
      "codemirror_mode": {
        "name": "ipython",
        "version": 3
      },
      "file_extension": ".py",
      "mimetype": "text/x-python",
      "name": "python",
      "nbconvert_exporter": "python",
      "pygments_lexer": "ipython3",
      "version": "3.8.16"
    }
  },
  "nbformat": 4,
  "nbformat_minor": 0
}