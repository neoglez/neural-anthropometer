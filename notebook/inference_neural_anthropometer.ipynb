{
 "cells": [
  {
   "cell_type": "markdown",
   "metadata": {
    "colab_type": "text",
    "id": "view-in-github"
   },
   "source": [
    "<a href=\"https://colab.research.google.com/github/neoglez/neural-anthropometer/blob/main/notebook/inference_neural_antropomter.ipynb\" target=\"_parent\"><img src=\"https://colab.research.google.com/assets/colab-badge.svg\" alt=\"Open In Colab\"/></a>"
   ]
  },
  {
   "cell_type": "markdown",
   "metadata": {
    "id": "n7WljTp_lp7x"
   },
   "source": [
    "# Clone and install Neural-Anthropometer"
   ]
  },
  {
   "cell_type": "markdown",
   "metadata": {
    "id": "telyuLR6lye1"
   },
   "source": [
    "## HBM, Vedo and Trimesh"
   ]
  },
  {
   "cell_type": "code",
   "execution_count": 4,
   "metadata": {
    "colab": {
     "base_uri": "https://localhost:8080/"
    },
    "id": "zaKUCEcxL_jy",
    "outputId": "99993323-58ca-4c01-8600-fa1c9ed95329"
   },
   "outputs": [
    {
     "name": "stdout",
     "output_type": "stream",
     "text": [
      "/home\n",
      "computational_intelligence\n",
      "/home/computational_intelligence\n"
     ]
    }
   ],
   "source": [
    "%cd /home\n",
    "!rm -rf computational_intelligence || true\n",
    "!mkdir computational_intelligence\n",
    "!ls\n",
    "%cd computational_intelligence"
   ]
  },
  {
   "cell_type": "code",
   "execution_count": 5,
   "metadata": {
    "colab": {
     "base_uri": "https://localhost:8080/"
    },
    "id": "BPube3pevfx8",
    "outputId": "ce4bfe1e-3060-4fc1-b1dd-4ee15ceffc48"
   },
   "outputs": [
    {
     "name": "stdout",
     "output_type": "stream",
     "text": [
      "Cloning into 'hbm'...\n",
      "warning: redirecting to https://github.com/neoglez/hbm.git/\n",
      "remote: Enumerating objects: 43, done.\u001b[K\n",
      "remote: Counting objects: 100% (43/43), done.\u001b[K\n",
      "remote: Compressing objects: 100% (36/36), done.\u001b[K\n",
      "remote: Total 43 (delta 14), reused 32 (delta 3), pack-reused 0\u001b[K\n",
      "Unpacking objects: 100% (43/43), done.\n"
     ]
    }
   ],
   "source": [
    "!git clone http://github.com/neoglez/hbm.git"
   ]
  },
  {
   "cell_type": "code",
   "execution_count": 6,
   "metadata": {
    "colab": {
     "base_uri": "https://localhost:8080/"
    },
    "id": "BWWyAeH-wSEH",
    "outputId": "aced441d-a049-42bb-a336-76701e2ff6c2"
   },
   "outputs": [
    {
     "name": "stdout",
     "output_type": "stream",
     "text": [
      "/home/computational_intelligence/hbm\n",
      "Processing /home/computational_intelligence/hbm\n",
      "\u001b[33m  DEPRECATION: A future pip version will change local packages to be built in-place without first copying to a temporary directory. We recommend you use --use-feature=in-tree-build to test your packages with this new behavior before it becomes the default.\n",
      "   pip 21.3 will remove support for this functionality. You can find discussion regarding this at https://github.com/pypa/pip/issues/7555.\u001b[0m\n",
      "Requirement already satisfied: numpy in /usr/local/lib/python3.7/dist-packages (from hbm==0.0.1) (1.19.5)\n",
      "Requirement already satisfied: opencv-python in /usr/local/lib/python3.7/dist-packages (from hbm==0.0.1) (4.1.2.30)\n",
      "Building wheels for collected packages: hbm\n",
      "  Building wheel for hbm (setup.py) ... \u001b[?25l\u001b[?25hdone\n",
      "  Created wheel for hbm: filename=hbm-0.0.1-py3-none-any.whl size=12044 sha256=81f84ccf48125eb1e42259bf719e6cf17b8e5a2662ae12ae69f68c4aa65c5baf\n",
      "  Stored in directory: /tmp/pip-ephem-wheel-cache-71bkwmtp/wheels/e8/9b/32/38b51e728edcfcc0e3689b4a9c9329b5074102fe6602f64cd4\n",
      "Successfully built hbm\n",
      "Installing collected packages: hbm\n",
      "Successfully installed hbm-0.0.1\n",
      "/bin/bash: conda: command not found\n",
      "Collecting trimesh\n",
      "  Downloading trimesh-3.9.39-py3-none-any.whl (640 kB)\n",
      "\u001b[K     |████████████████████████████████| 640 kB 14.0 MB/s \n",
      "\u001b[?25hRequirement already satisfied: sklearn in /usr/local/lib/python3.7/dist-packages (0.0)\n",
      "Requirement already satisfied: matplotlib in /usr/local/lib/python3.7/dist-packages (3.2.2)\n",
      "Requirement already satisfied: setuptools in /usr/local/lib/python3.7/dist-packages (from trimesh) (57.4.0)\n",
      "Requirement already satisfied: numpy in /usr/local/lib/python3.7/dist-packages (from trimesh) (1.19.5)\n",
      "Requirement already satisfied: scikit-learn in /usr/local/lib/python3.7/dist-packages (from sklearn) (1.0.1)\n",
      "Requirement already satisfied: python-dateutil>=2.1 in /usr/local/lib/python3.7/dist-packages (from matplotlib) (2.8.2)\n",
      "Requirement already satisfied: pyparsing!=2.0.4,!=2.1.2,!=2.1.6,>=2.0.1 in /usr/local/lib/python3.7/dist-packages (from matplotlib) (3.0.6)\n",
      "Requirement already satisfied: kiwisolver>=1.0.1 in /usr/local/lib/python3.7/dist-packages (from matplotlib) (1.3.2)\n",
      "Requirement already satisfied: cycler>=0.10 in /usr/local/lib/python3.7/dist-packages (from matplotlib) (0.11.0)\n",
      "Requirement already satisfied: six>=1.5 in /usr/local/lib/python3.7/dist-packages (from python-dateutil>=2.1->matplotlib) (1.15.0)\n",
      "Requirement already satisfied: threadpoolctl>=2.0.0 in /usr/local/lib/python3.7/dist-packages (from scikit-learn->sklearn) (3.0.0)\n",
      "Requirement already satisfied: scipy>=1.1.0 in /usr/local/lib/python3.7/dist-packages (from scikit-learn->sklearn) (1.4.1)\n",
      "Requirement already satisfied: joblib>=0.11 in /usr/local/lib/python3.7/dist-packages (from scikit-learn->sklearn) (1.1.0)\n",
      "Installing collected packages: trimesh\n",
      "Successfully installed trimesh-3.9.39\n"
     ]
    }
   ],
   "source": [
    "%cd hbm\n",
    "\n",
    "!pip install .\n",
    "\n",
    "!conda install -c conda-forge vedo\n",
    "\n",
    "!pip install trimesh sklearn matplotlib"
   ]
  },
  {
   "cell_type": "markdown",
   "metadata": {
    "id": "VQJUDi7El8Pa"
   },
   "source": [
    "## Install the Neural-Anthropometer"
   ]
  },
  {
   "cell_type": "code",
   "execution_count": 7,
   "metadata": {
    "colab": {
     "base_uri": "https://localhost:8080/"
    },
    "id": "b6E7wxfql--o",
    "outputId": "ab49570b-2790-492b-e306-8cf7dec43271"
   },
   "outputs": [
    {
     "name": "stdout",
     "output_type": "stream",
     "text": [
      "/home/computational_intelligence\n"
     ]
    }
   ],
   "source": [
    "%cd .."
   ]
  },
  {
   "cell_type": "code",
   "execution_count": 8,
   "metadata": {
    "colab": {
     "base_uri": "https://localhost:8080/"
    },
    "id": "JLuyTunWmKMv",
    "outputId": "9ce3e036-0f1f-4bb5-a4fb-84e379c522fc"
   },
   "outputs": [
    {
     "name": "stdout",
     "output_type": "stream",
     "text": [
      "Cloning into 'neural-anthropometer'...\n",
      "warning: redirecting to https://github.com/neoglez/neural-anthropometer.git/\n",
      "remote: Enumerating objects: 245, done.\u001b[K\n",
      "remote: Counting objects: 100% (245/245), done.\u001b[K\n",
      "remote: Compressing objects: 100% (225/225), done.\u001b[K\n",
      "remote: Total 245 (delta 109), reused 115 (delta 8), pack-reused 0\u001b[K\n",
      "Receiving objects: 100% (245/245), 551.13 KiB | 14.89 MiB/s, done.\n",
      "Resolving deltas: 100% (109/109), done.\n",
      "/home/computational_intelligence/neural-anthropometer\n",
      "Processing /home/computational_intelligence/neural-anthropometer\n",
      "\u001b[33m  DEPRECATION: A future pip version will change local packages to be built in-place without first copying to a temporary directory. We recommend you use --use-feature=in-tree-build to test your packages with this new behavior before it becomes the default.\n",
      "   pip 21.3 will remove support for this functionality. You can find discussion regarding this at https://github.com/pypa/pip/issues/7555.\u001b[0m\n",
      "Requirement already satisfied: numpy in /usr/local/lib/python3.7/dist-packages (from neural-anthropometer==0.0.1) (1.19.5)\n",
      "Requirement already satisfied: opencv-python in /usr/local/lib/python3.7/dist-packages (from neural-anthropometer==0.0.1) (4.1.2.30)\n",
      "Building wheels for collected packages: neural-anthropometer\n",
      "  Building wheel for neural-anthropometer (setup.py) ... \u001b[?25l\u001b[?25hdone\n",
      "  Created wheel for neural-anthropometer: filename=neural_anthropometer-0.0.1-py3-none-any.whl size=34840 sha256=1965284941d5be4f12eecbc593f63db270d74cfc0992bb98694a3fcac20d945b\n",
      "  Stored in directory: /root/.cache/pip/wheels/9d/a9/e6/d57aa8c5734fa981a36c48bec89373240cbb4d7b912634f5d9\n",
      "Successfully built neural-anthropometer\n",
      "Installing collected packages: neural-anthropometer\n",
      "Successfully installed neural-anthropometer-0.0.1\n"
     ]
    }
   ],
   "source": [
    "!git clone http://github.com/neoglez/neural-anthropometer.git\n",
    "%cd neural-anthropometer\n",
    "!pip install ."
   ]
  },
  {
   "cell_type": "markdown",
   "metadata": {
    "id": "GPUFLCFXme1D"
   },
   "source": [
    "# Download Neural-Anthropometer dataset"
   ]
  },
  {
   "cell_type": "code",
   "execution_count": 9,
   "metadata": {
    "colab": {
     "base_uri": "https://localhost:8080/"
    },
    "id": "DI43aH64y1s2",
    "outputId": "71bb137c-6dd3-47fc-9abb-3aa3edc979e1"
   },
   "outputs": [
    {
     "name": "stdout",
     "output_type": "stream",
     "text": [
      "/home\n",
      "computational_intelligence  Downloads\n",
      "/home/Downloads\n"
     ]
    }
   ],
   "source": [
    "%cd /home\n",
    "!rm -rf Downloads || true\n",
    "!mkdir Downloads\n",
    "!ls\n",
    "%cd Downloads"
   ]
  },
  {
   "cell_type": "code",
   "execution_count": 10,
   "metadata": {
    "colab": {
     "base_uri": "https://localhost:8080/"
    },
    "id": "bG4x7dX35kEX",
    "outputId": "1bb1b62f-fe3b-4360-e041-df17ed024192"
   },
   "outputs": [
    {
     "name": "stdout",
     "output_type": "stream",
     "text": [
      "KkoNNDJNPS02NTQAIy9AJAU1MigoeTIRGn5UPAgKdh8=:hxjRk8qzdQmTlNubkOQEX0VA+OlSmxAvs0BuYdHtgvo=\n",
      "Downloding Neural Anthropometer Dataset\n"
     ]
    },
    {
     "name": "stderr",
     "output_type": "stream",
     "text": [
      "100%|██████████| 2.02G/2.02G [01:00<00:00, 33.3MiB/s]\n"
     ]
    }
   ],
   "source": [
    "from tqdm import tqdm\n",
    "from requests.sessions import default_headers\n",
    "import requests\n",
    "import urllib\n",
    "import re\n",
    "\n",
    "url = \"https://cloudlogin03.world4you.com/index.php/s/5uD3bt1n207k8ko/authenticate\"\n",
    "download_url = \"https://cloudlogin03.world4you.com/index.php/s/5uD3bt1n207k8ko/download\"\n",
    "password = \"na-dataset\"\n",
    "requesttoken = ''\n",
    "\n",
    "\n",
    "s = requests.Session()\n",
    "r0 = s.get(url)\n",
    "\n",
    "requesttoken = re.findall('(?<=data-requesttoken=\").*?(?=\">)', r0.text)\n",
    "if (requesttoken):\n",
    "  requesttoken = requesttoken[0]\n",
    "print(requesttoken)\n",
    "\n",
    "data = {'requesttoken': requesttoken, 'password': password}\n",
    "r1 = s.post(url, data=data)\n",
    "\n",
    "print(\"Downloding Neural Anthropometer Dataset\")\n",
    "r2 = s.get(download_url, stream=True)\n",
    "total_size_in_bytes= int(r2.headers.get('content-length', 0))\n",
    "block_size = 1024 #1 Kilobyte\n",
    "progress_bar = tqdm(total=total_size_in_bytes, unit='iB', unit_scale=True)\n",
    "with open('neural-anthropometer.tar.gz', 'wb') as file:\n",
    "    for data in r2.iter_content(block_size):\n",
    "        progress_bar.update(len(data))\n",
    "        file.write(data)\n",
    "progress_bar.close()\n",
    "if total_size_in_bytes != 0 and progress_bar.n != total_size_in_bytes:\n",
    "    print(\"ERROR, something went wrong\")\n",
    "\n",
    "\n",
    "\n",
    "\n"
   ]
  },
  {
   "cell_type": "code",
   "execution_count": 11,
   "metadata": {
    "colab": {
     "base_uri": "https://localhost:8080/"
    },
    "id": "LXo7I6IM2-C7",
    "outputId": "2c931d73-10fd-4f31-c296-af111ad6e6bd"
   },
   "outputs": [
    {
     "name": "stdout",
     "output_type": "stream",
     "text": [
      "neural-anthropometer.tar.gz\n",
      "None\n"
     ]
    }
   ],
   "source": [
    "!ls\n",
    "import os\n",
    "def convert_bytes(num):\n",
    "    \"\"\"\n",
    "    this function will convert bytes to MB.... GB... etc\n",
    "    \"\"\"\n",
    "    for x in ['bytes', 'KB', 'MB', 'GB', 'TB']:\n",
    "        if num < 1024.0:\n",
    "            return \"%3.1f %s\" % (num, x)\n",
    "        num /= 1024.0\n",
    "\n",
    "\n",
    "def file_size(file_path):\n",
    "    \"\"\"\n",
    "    this function will return the file size\n",
    "    \"\"\"\n",
    "    if os.path.isfile(file_path):\n",
    "        file_info = os.stat(file_path)\n",
    "        return convert_bytes(file_info.st_size)\n",
    "\n",
    "\n",
    "# Lets check the file size of MS Paint exe \n",
    "# or you can use any file path\n",
    "file_path = \"../../Downloads/neural-anthropometer.tar.gz\"\n",
    "print(file_size(file_path))"
   ]
  },
  {
   "cell_type": "code",
   "execution_count": 12,
   "metadata": {
    "colab": {
     "base_uri": "https://localhost:8080/"
    },
    "id": "fgaCHLwC0s0J",
    "outputId": "c4261edc-ff2d-4c1c-d416-b6bea0346eae"
   },
   "outputs": [
    {
     "name": "stdout",
     "output_type": "stream",
     "text": [
      "[Errno 2] No such file or directory: '../../Downloads'\n",
      "/home/Downloads\n"
     ]
    }
   ],
   "source": [
    "%cd ../../Downloads\n",
    "!tar -xf neural-anthropometer.tar.gz\n",
    "!mv dataset/*  /home/computational_intelligence/neural-anthropometer/dataset/"
   ]
  },
  {
   "cell_type": "code",
   "execution_count": 13,
   "metadata": {
    "id": "T1mke4KVN_B_"
   },
   "outputs": [],
   "source": [
    "!rm -rf neural-anthropometer.tar.gz"
   ]
  },
  {
   "cell_type": "code",
   "execution_count": 14,
   "metadata": {
    "id": "RwkdF0L01Ngs"
   },
   "outputs": [],
   "source": [
    "!rm -rf dataset"
   ]
  },
  {
   "cell_type": "markdown",
   "metadata": {
    "id": "JvZf5PHXQCxS"
   },
   "source": [
    "# Estimate Human Body Dimensions"
   ]
  },
  {
   "cell_type": "code",
   "execution_count": 15,
   "metadata": {
    "colab": {
     "base_uri": "https://localhost:8080/"
    },
    "id": "KVS9LW600385",
    "outputId": "4ef86007-ce4d-4b5a-f1cc-e7c38c9a94e6"
   },
   "outputs": [
    {
     "name": "stdout",
     "output_type": "stream",
     "text": [
      "Requirement already satisfied: torch in /usr/local/lib/python3.7/dist-packages (1.10.0+cu111)\n",
      "Requirement already satisfied: torchvision in /usr/local/lib/python3.7/dist-packages (0.11.1+cu111)\n",
      "Requirement already satisfied: typing-extensions in /usr/local/lib/python3.7/dist-packages (from torch) (3.10.0.2)\n",
      "Requirement already satisfied: pillow!=8.3.0,>=5.3.0 in /usr/local/lib/python3.7/dist-packages (from torchvision) (7.1.2)\n",
      "Requirement already satisfied: numpy in /usr/local/lib/python3.7/dist-packages (from torchvision) (1.19.5)\n"
     ]
    }
   ],
   "source": [
    "!pip3 install torch torchvision"
   ]
  },
  {
   "cell_type": "code",
   "execution_count": 17,
   "metadata": {
    "id": "jFpSVG0DYHbK"
   },
   "outputs": [],
   "source": [
    "!cd /home/computational_intelligence/neural-anthropometer"
   ]
  },
  {
   "cell_type": "code",
   "execution_count": 21,
   "metadata": {
    "colab": {
     "base_uri": "https://localhost:8080/"
    },
    "id": "yQLzPTi-SOt5",
    "outputId": "42eddd1a-b0b2-4e93-d196-af34ac4563f0"
   },
   "outputs": [
    {
     "name": "stdout",
     "output_type": "stream",
     "text": [
      "Collecting vedo\n",
      "  Downloading vedo-2021.0.7.tar.gz (19.0 MB)\n",
      "\u001b[K     |████████████████████████████████| 19.0 MB 1.4 MB/s \n",
      "\u001b[?25hCollecting vtk<9.1.0\n",
      "  Downloading vtk-9.0.3-cp37-cp37m-manylinux_2_17_x86_64.manylinux2014_x86_64.whl (59.5 MB)\n",
      "\u001b[K     |████████████████████████████████| 59.5 MB 1.3 MB/s \n",
      "\u001b[?25hRequirement already satisfied: numpy in /usr/local/lib/python3.7/dist-packages (from vedo) (1.19.5)\n",
      "Collecting Deprecated\n",
      "  Downloading Deprecated-1.2.13-py2.py3-none-any.whl (9.6 kB)\n",
      "Requirement already satisfied: matplotlib>=2.0.0 in /usr/local/lib/python3.7/dist-packages (from vtk<9.1.0->vedo) (3.2.2)\n",
      "Collecting autobahn>=17.7.1\n",
      "  Downloading autobahn-21.11.1.tar.gz (365 kB)\n",
      "\u001b[K     |████████████████████████████████| 365 kB 50.9 MB/s \n",
      "\u001b[?25hCollecting Twisted>=17.5.0\n",
      "  Downloading Twisted-21.7.0-py3-none-any.whl (3.1 MB)\n",
      "\u001b[K     |████████████████████████████████| 3.1 MB 40.5 MB/s \n",
      "\u001b[?25hCollecting wslink>=0.1.3\n",
      "  Downloading wslink-1.3.1-py3-none-any.whl (21 kB)\n",
      "Collecting txaio>=21.2.1\n",
      "  Downloading txaio-21.2.1-py2.py3-none-any.whl (30 kB)\n",
      "Collecting cryptography>=3.4.6\n",
      "  Downloading cryptography-36.0.1-cp36-abi3-manylinux_2_24_x86_64.whl (3.6 MB)\n",
      "\u001b[K     |████████████████████████████████| 3.6 MB 45.3 MB/s \n",
      "\u001b[?25hCollecting hyperlink>=21.0.0\n",
      "  Downloading hyperlink-21.0.0-py2.py3-none-any.whl (74 kB)\n",
      "\u001b[K     |████████████████████████████████| 74 kB 3.5 MB/s \n",
      "\u001b[?25hRequirement already satisfied: setuptools in /usr/local/lib/python3.7/dist-packages (from autobahn>=17.7.1->vtk<9.1.0->vedo) (57.4.0)\n",
      "Requirement already satisfied: cffi>=1.12 in /usr/local/lib/python3.7/dist-packages (from cryptography>=3.4.6->autobahn>=17.7.1->vtk<9.1.0->vedo) (1.15.0)\n",
      "Requirement already satisfied: pycparser in /usr/local/lib/python3.7/dist-packages (from cffi>=1.12->cryptography>=3.4.6->autobahn>=17.7.1->vtk<9.1.0->vedo) (2.21)\n",
      "Requirement already satisfied: idna>=2.5 in /usr/local/lib/python3.7/dist-packages (from hyperlink>=21.0.0->autobahn>=17.7.1->vtk<9.1.0->vedo) (2.10)\n",
      "Requirement already satisfied: kiwisolver>=1.0.1 in /usr/local/lib/python3.7/dist-packages (from matplotlib>=2.0.0->vtk<9.1.0->vedo) (1.3.2)\n",
      "Requirement already satisfied: python-dateutil>=2.1 in /usr/local/lib/python3.7/dist-packages (from matplotlib>=2.0.0->vtk<9.1.0->vedo) (2.8.2)\n",
      "Requirement already satisfied: pyparsing!=2.0.4,!=2.1.2,!=2.1.6,>=2.0.1 in /usr/local/lib/python3.7/dist-packages (from matplotlib>=2.0.0->vtk<9.1.0->vedo) (3.0.6)\n",
      "Requirement already satisfied: cycler>=0.10 in /usr/local/lib/python3.7/dist-packages (from matplotlib>=2.0.0->vtk<9.1.0->vedo) (0.11.0)\n",
      "Requirement already satisfied: six>=1.5 in /usr/local/lib/python3.7/dist-packages (from python-dateutil>=2.1->matplotlib>=2.0.0->vtk<9.1.0->vedo) (1.15.0)\n",
      "Collecting incremental>=21.3.0\n",
      "  Downloading incremental-21.3.0-py2.py3-none-any.whl (15 kB)\n",
      "Collecting zope.interface>=4.4.2\n",
      "  Downloading zope.interface-5.4.0-cp37-cp37m-manylinux2010_x86_64.whl (251 kB)\n",
      "\u001b[K     |████████████████████████████████| 251 kB 47.1 MB/s \n",
      "\u001b[?25hRequirement already satisfied: attrs>=19.2.0 in /usr/local/lib/python3.7/dist-packages (from Twisted>=17.5.0->vtk<9.1.0->vedo) (21.2.0)\n",
      "Collecting constantly>=15.1\n",
      "  Downloading constantly-15.1.0-py2.py3-none-any.whl (7.9 kB)\n",
      "Requirement already satisfied: typing-extensions>=3.6.5 in /usr/local/lib/python3.7/dist-packages (from Twisted>=17.5.0->vtk<9.1.0->vedo) (3.10.0.2)\n",
      "Collecting Automat>=0.8.0\n",
      "  Downloading Automat-20.2.0-py2.py3-none-any.whl (31 kB)\n",
      "Collecting aiohttp\n",
      "  Downloading aiohttp-3.8.1-cp37-cp37m-manylinux_2_5_x86_64.manylinux1_x86_64.manylinux_2_12_x86_64.manylinux2010_x86_64.whl (1.1 MB)\n",
      "\u001b[K     |████████████████████████████████| 1.1 MB 38.1 MB/s \n",
      "\u001b[?25hCollecting multidict<7.0,>=4.5\n",
      "  Downloading multidict-5.2.0-cp37-cp37m-manylinux_2_5_x86_64.manylinux1_x86_64.manylinux_2_12_x86_64.manylinux2010_x86_64.whl (160 kB)\n",
      "\u001b[K     |████████████████████████████████| 160 kB 52.1 MB/s \n",
      "\u001b[?25hRequirement already satisfied: charset-normalizer<3.0,>=2.0 in /usr/local/lib/python3.7/dist-packages (from aiohttp->wslink>=0.1.3->vtk<9.1.0->vedo) (2.0.9)\n",
      "Collecting yarl<2.0,>=1.0\n",
      "  Downloading yarl-1.7.2-cp37-cp37m-manylinux_2_5_x86_64.manylinux1_x86_64.manylinux_2_12_x86_64.manylinux2010_x86_64.whl (271 kB)\n",
      "\u001b[K     |████████████████████████████████| 271 kB 53.6 MB/s \n",
      "\u001b[?25hCollecting aiosignal>=1.1.2\n",
      "  Downloading aiosignal-1.2.0-py3-none-any.whl (8.2 kB)\n",
      "Collecting async-timeout<5.0,>=4.0.0a3\n",
      "  Downloading async_timeout-4.0.2-py3-none-any.whl (5.8 kB)\n",
      "Collecting asynctest==0.13.0\n",
      "  Downloading asynctest-0.13.0-py3-none-any.whl (26 kB)\n",
      "Collecting frozenlist>=1.1.1\n",
      "  Downloading frozenlist-1.2.0-cp37-cp37m-manylinux_2_5_x86_64.manylinux1_x86_64.manylinux_2_12_x86_64.manylinux2010_x86_64.whl (192 kB)\n",
      "\u001b[K     |████████████████████████████████| 192 kB 49.7 MB/s \n",
      "\u001b[?25hRequirement already satisfied: wrapt<2,>=1.10 in /usr/local/lib/python3.7/dist-packages (from Deprecated->vedo) (1.13.3)\n",
      "Building wheels for collected packages: vedo, autobahn\n",
      "  Building wheel for vedo (setup.py) ... \u001b[?25l\u001b[?25hdone\n",
      "  Created wheel for vedo: filename=vedo-2021.0.7-py3-none-any.whl size=19111429 sha256=d86a3374d25f5554e4e553fc8705fb2d293a2f02ccc852ee3e351501f48c53b3\n",
      "  Stored in directory: /root/.cache/pip/wheels/a0/c0/be/f023321735be793a5fa2f540835b2aae47a3016ef4bfd7126a\n",
      "  Building wheel for autobahn (setup.py) ... \u001b[?25l\u001b[?25hdone\n",
      "  Created wheel for autobahn: filename=autobahn-21.11.1-cp37-cp37m-linux_x86_64.whl size=537832 sha256=db59b086de7d18915235e93501711bf645205339ecef3f761c776b4d52822eb2\n",
      "  Stored in directory: /root/.cache/pip/wheels/39/ec/a5/d64c91164433c5128635f83e59f631e088dda71f14e030056e\n",
      "Successfully built vedo autobahn\n",
      "Installing collected packages: multidict, frozenlist, yarl, asynctest, async-timeout, aiosignal, zope.interface, txaio, incremental, hyperlink, cryptography, constantly, Automat, aiohttp, wslink, Twisted, autobahn, vtk, Deprecated, vedo\n",
      "Successfully installed Automat-20.2.0 Deprecated-1.2.13 Twisted-21.7.0 aiohttp-3.8.1 aiosignal-1.2.0 async-timeout-4.0.2 asynctest-0.13.0 autobahn-21.11.1 constantly-15.1.0 cryptography-36.0.1 frozenlist-1.2.0 hyperlink-21.0.0 incremental-21.3.0 multidict-5.2.0 txaio-21.2.1 vedo-2021.0.7 vtk-9.0.3 wslink-1.3.1 yarl-1.7.2 zope.interface-5.4.0\n",
      "embedWindow(verbose=True): could not load ipyvtklink try:\n",
      "> pip install ipyvtklink\n"
     ]
    }
   ],
   "source": [
    "!pip install vedo\n",
    "import neural_anthropometer as na"
   ]
  },
  {
   "cell_type": "markdown",
   "metadata": {
    "colab": {
     "base_uri": "https://localhost:8080/",
     "height": 669
    },
    "id": "bNrSdv_ISBtH",
    "outputId": "d9896d06-096f-40a0-f7c9-a4825a060834"
   },
   "source": [
    "import torch\n",
    "import torch.nn as nn\n",
    "import os\n",
    "import neural_anthropometer as na\n",
    "import numpy as np\n",
    "import pandas as pd\n",
    "import locale\n",
    "\n",
    "locale.setlocale(locale.LC_NUMERIC, \"C\")\n",
    "\n",
    "rootDir = \"/home/computational_intelligence/neural-anthropometer/dataset\"\n",
    "print(rootDir)\n",
    "\n",
    "\n",
    "model_path = os.path.join(rootDir, \"..\", \"model\")\n",
    "model_name = \"Neural_Anthropometer_Model_17-03-2021_08-26-53_fold-4.pt\"\n",
    "model_file_path = os.path.join(model_path, model_name)\n",
    "\n",
    "# Configuration options\n",
    "batch_size = 1\n",
    "# CUDA for PyTorch\n",
    "# Set fixed random number seed\n",
    "torch.manual_seed(41)\n",
    "use_cuda = torch.cuda.is_available()\n",
    "device = torch.device(\"cuda:0\" if use_cuda else \"cpu\")\n",
    "torch.backends.cudnn.benchmark = False\n",
    "\n",
    "transform = na.TwoDToTensor()\n",
    "criterion = nn.MSELoss()\n",
    "\n",
    "dataset = na.NeuralAnthropometerSyntheticImagesDataset(\n",
    "    root_dir=rootDir, transform=transform\n",
    ")\n",
    "test_dt = DataLoader(dataset, batch_size=batch_size, shuffle=True)\n",
    "dataiter = iter(test_dt)\n",
    "sample = next(dataiter)"
   ]
  },
  {
   "cell_type": "code",
   "execution_count": null,
   "metadata": {},
   "outputs": [],
   "source": [
    "plain_data = sample[\"annotations\"][\"human_dimensions\"].numpy().ravel()\n",
    "print(\"Random element drawn\")\n",
    "print(\"Element annotations follows:\")\n",
    "columns = dataset.getHumanBodyDimensionsNames()\n",
    "data = pd.DataFrame([plain_data], columns=columns[:-1])\n",
    "print(data)"
   ]
  },
  {
   "cell_type": "code",
   "execution_count": null,
   "metadata": {},
   "outputs": [],
   "source": [
    "from torchvision import transforms\n",
    "import matplotlib.pyplot as plt\n",
    "from PIL import Image\n",
    "# Plot the subject image with the subject string\n",
    "img_t = sample[\"image\"]\n",
    "# For plotting\n",
    "toPILImage = transforms.ToPILImage()\n",
    "img = toPILImage(img_t[0])\n",
    "plt.imshow(img, cmap=plt.get_cmap('gray'), vmin=0, vmax=255)"
   ]
  },
  {
   "cell_type": "code",
   "execution_count": null,
   "metadata": {},
   "outputs": [],
   "source": [
    "model = na.NeuralAnthropometer(debug=False)\n",
    "model.load_state_dict(torch.load(model_file))\n",
    "model.eval()\n",
    "predicted_hbds = model(img_t)\n",
    "\n",
    "print(actual_hbds[0])\n",
    "print(predicted_hbds[0])"
   ]
  }
 ],
 "metadata": {
  "accelerator": "GPU",
  "colab": {
   "include_colab_link": true,
   "name": "train_neural_antropomter.ipynb",
   "provenance": []
  },
  "kernelspec": {
   "display_name": "Python 3 (ipykernel)",
   "language": "python",
   "name": "python3"
  },
  "language_info": {
   "codemirror_mode": {
    "name": "ipython",
    "version": 3
   },
   "file_extension": ".py",
   "mimetype": "text/x-python",
   "name": "python",
   "nbconvert_exporter": "python",
   "pygments_lexer": "ipython3",
   "version": "3.8.16"
  }
 },
 "nbformat": 4,
 "nbformat_minor": 1
}
